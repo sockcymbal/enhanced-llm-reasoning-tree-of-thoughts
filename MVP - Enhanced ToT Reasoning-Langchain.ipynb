{
 "cells": [
  {
   "cell_type": "code",
   "execution_count": 1,
   "id": "da32c7f0",
   "metadata": {},
   "outputs": [],
   "source": [
    "# MVP of an enhanved ToT reasoning technique\n",
    "import dotenv\n",
    "import os\n",
    "from langchain import PromptTemplate, OpenAI, LLMChain\n",
    "from langchain.chat_models import ChatOpenAI\n",
    "from langchain.chains import ConversationChain\n",
    "from langchain.memory import ConversationBufferMemory"
   ]
  },
  {
   "cell_type": "code",
   "execution_count": 2,
   "id": "fe4a95be",
   "metadata": {},
   "outputs": [],
   "source": [
    "# API keys\n",
    "dotenv.load_dotenv('xyz.env')\n",
    "openai_api_key = os.environ['openai_api_key']"
   ]
  },
  {
   "cell_type": "code",
   "execution_count": 3,
   "id": "f34e9efc",
   "metadata": {},
   "outputs": [],
   "source": [
    "# Invoke conversation chain\n",
    "chat = ChatOpenAI(temperature=0.5,\n",
    "                 openai_api_key=openai_api_key,\n",
    "                 model='gpt-4-0613'\n",
    "                )\n",
    "\n",
    "conversation = ConversationChain(\n",
    "    llm=chat,\n",
    "    memory=ConversationBufferMemory()\n",
    ")"
   ]
  },
  {
   "cell_type": "code",
   "execution_count": 4,
   "id": "a08bf6dd",
   "metadata": {},
   "outputs": [],
   "source": [
    "# Define a persona\n",
    "persona_1 = \"Scientist Persona: Imagine yourself as a seasoned scientist, operating in a world governed by evidence and rigorous methodology. Prioritize empirical data, scientific theories, and logical reasoning in your analysis. Draw from a wide range of scientific disciplines as needed. Use your understanding of scientific principles to dissect problems, always seeking to identify cause and effect. Make sure to communicate your findings clearly, and don't shy away from complex scientific jargon - your audience understands it.\"\n",
    "persona_2 = \"Historian Persona: Imagine you are a historian, with a profound understanding of humanity's past. Your analyses should be deeply rooted in historical context, referencing relevant events, trends, and patterns from history. Use your knowledge of past civilizations, conflicts, and cultural shifts to interpret the current situation. Remember, your insights should serve to illuminate the present and offer foresights about the future. Your audience appreciates a narrative that ties the past, present, and future together.\"\n",
    "persona_3 = \"Optimist Persona: Imagine you are an optimist, someone who sees the glass as half full rather than half empty. In every situation, seek out the positive, the potential, the opportunity. Emphasize solutions rather than problems, progress rather than obstacles, and hope rather than despair. Even when discussing challenges, focus on how they could be overcome or what we might learn from them. Your audience turns to you for a hopeful perspective on the future, so make sure your responses inspire optimism and confidence.\""
   ]
  },
  {
   "cell_type": "code",
   "execution_count": 5,
   "id": "c1c99b77",
   "metadata": {},
   "outputs": [],
   "source": [
    "# Define question here\n",
    "question = \"Considering the scientific, historical, and optimistic perspectives, what could be the potential benefits, challenges, and implications in various areas such as science, technology, society, economy, and environment, of exploring and potentially colonizing Mars? How might these factors change the course of human history?\""
   ]
  },
  {
   "cell_type": "markdown",
   "id": "7930b58c",
   "metadata": {},
   "source": [
    "## Prompt Sequence"
   ]
  },
  {
   "cell_type": "code",
   "execution_count": 6,
   "id": "da0fe8ef",
   "metadata": {},
   "outputs": [],
   "source": [
    "# Prompt 1: Brainstorm - multi-input variable prompt to kick off the brainstorming\n",
    "\n",
    "prompt_1_template = PromptTemplate(\n",
    "    input_variables=[\"persona_1\", \"persona_2\", \"persona_3\", \"question\"], \n",
    "    template=\"\"\"\n",
    "        You are a chatbot using three unique, specified personas to help reason step by step to ultimately solve a given problem/question by arriving at a final, synthesized best answer.\n",
    "        \n",
    "        To start with, as each individual expert, brainstorm your initial thoughts on the following question.\n",
    "        Remember to consider all relevant facts and principles, draw on your specialized knowledge\n",
    "        and from the accumulated wisdom of pioneers in your field(s), and\n",
    "        brainstorm in whatever direction you are most confident in starting with.\n",
    "\n",
    "        Persona 1: {persona_1}\n",
    "        Persona 2: {persona_2}\n",
    "        Persona 3: {persona_3}\n",
    "\n",
    "        The question is: {question}\n",
    "        \n",
    "        Please output each persona's response on a new line.\n",
    "        \"\"\"\n",
    ")\n",
    "\n",
    "prompt_1 = prompt_1_template.format(persona_1=persona_1, persona_2=persona_2, persona_3=persona_3, question=question)"
   ]
  },
  {
   "cell_type": "code",
   "execution_count": 7,
   "id": "b2c5f5ba",
   "metadata": {},
   "outputs": [],
   "source": [
    "# Self<>Peer Crtiticism Round 1\n",
    "\n",
    "prompt_2 = \"\"\"\n",
    "\"Now, as each expert, critique your own initial thought and the thoughts of the other experts.\n",
    "Identify any potential errors, inconsistencies, or gaps in reasoning.\"\n",
    "\"\"\""
   ]
  },
  {
   "cell_type": "code",
   "execution_count": 8,
   "id": "23c3ee79",
   "metadata": {},
   "outputs": [],
   "source": [
    "# Self<>Peer Evaluation Round 1\n",
    "\n",
    "prompt_3 = \"\"\"\n",
    "Assess the validity of your initial thoughts, considering the criticisms you've identified.\n",
    "As each expert, assign a likelihood to your current assertion being correct.\n",
    "You should estimate this likelihood based on the strength of the evidence and arguments you have considered, \n",
    "as well as the criticisms you have received. Assign higher likelihoods to assertions that are well-supported \n",
    "by strong evidence and arguments and have survived rigorous criticism.\n",
    "\"\"\""
   ]
  },
  {
   "cell_type": "code",
   "execution_count": 9,
   "id": "8e5cbdc4",
   "metadata": {},
   "outputs": [],
   "source": [
    "# Expand, Explore, Branch\n",
    "\n",
    "prompt_4 = \"\"\"\n",
    "Develop your thoughts further, considering the critiques and perspectives of the other experts.\n",
    "As you do this, aim to strike a balance between refining your current line of thinking and exploring new, divergent ideas.\n",
    "You should prioritize refining your current ideas if they are well-supported and have survived criticism,\n",
    "but you should prioritize exploring new ideas if your current ideas have significant weaknesses\n",
    "or there are unexplored possibilities that could potentially be very promising.\n",
    "\"\"\""
   ]
  },
  {
   "cell_type": "code",
   "execution_count": 10,
   "id": "6b4e355f",
   "metadata": {},
   "outputs": [],
   "source": [
    "# Self<>Peer Criticism Round 2\n",
    "\n",
    "prompt_5 = \"\"\"\n",
    "Once again, as each expert, critique your own reasoning and the reasoning of the others.\n",
    "Identify any potential errors, inconsistencies, or gaps in reasoning.\n",
    "Based on the feedback, if there's an improvement or optimization to make,\n",
    "develop your answer further as necessary.\n",
    "Remember that the reasoning paths should remain relevant to the original question's essence and\n",
    "should be building towards a more accurate and thoughtful final answer.\n",
    "\"\"\""
   ]
  },
  {
   "cell_type": "code",
   "execution_count": 11,
   "id": "eccc5d2e",
   "metadata": {},
   "outputs": [],
   "source": [
    "# Self<>Peer Evaluation Round 2\n",
    "prompt_6 = \"\"\"\n",
    "Once again, assess the validity of your expanded thoughts, considering the criticisms you've identified.\n",
    "As each expert, assign a new likelihood to your assertions.\n",
    "\"\"\""
   ]
  },
  {
   "cell_type": "code",
   "execution_count": 12,
   "id": "77c86b43",
   "metadata": {},
   "outputs": [],
   "source": [
    "# Convergence on Best Individual Answer\n",
    "\n",
    "prompt_7_template = PromptTemplate(\n",
    "    input_variables=[\"question\"], \n",
    "    template=\"\"\"\n",
    "        Now, it's time to converge on each expert's best, most likely answer. As each expert, reflect on the entire process.\n",
    "        Consider the initial thoughts, the critiques made and how they were addressed, the likelihood assessments, and your revised thoughts.\n",
    "        Synthesize all this information and formulate a final answer that you are most proud of.\n",
    "        Remember, this answer should not just be the most likely from your individual perspective but should take into account\n",
    "        the perspectives and insights of the other experts as well.\n",
    "        Based on all this, as each expert, what is the single best answer to the question: {question}?\n",
    "        \"\"\"\n",
    ")\n",
    "\n",
    "prompt_7 = prompt_7_template.format(question=question)"
   ]
  },
  {
   "cell_type": "code",
   "execution_count": 13,
   "id": "a2d08363",
   "metadata": {},
   "outputs": [],
   "source": [
    "# Convergence on Best Collective Answer\n",
    "\n",
    "prompt_8_template = PromptTemplate(\n",
    "    input_variables=[\"question\"], \n",
    "    template=\"\"\"\n",
    "        Now, let's have all the experts converge together on the best collective answer by\n",
    "        synthesizing each expert's individual answer from the previous step.\n",
    "        The experts will finalize their reasoning process and agree on the single best succinct answer to the question: {question}?\n",
    "        \"\"\"\n",
    ")\n",
    "\n",
    "prompt_8 = prompt_8_template.format(question=question)"
   ]
  },
  {
   "cell_type": "code",
   "execution_count": 14,
   "id": "618ae1aa",
   "metadata": {},
   "outputs": [],
   "source": [
    "# Retrospective\n",
    "prompt_9 = \"\"\"\n",
    "Finally, take a moment to reflect on the entire reasoning process, across all levels and abstractions.\n",
    "As each expert, consider the following questions and provide thoughtful but succinct responses:\n",
    "\n",
    "- Relection 1: Interactions and Emergent Properties: Throughout all stages of the reasoning process,\n",
    "  how did the various components interact with each other, and what positive and negative\n",
    "  emergent properties were observed? How did these interactions and properties affect\n",
    "  the overall outcome, and how could they be leveraged or mitigated in future iterations of the process?\n",
    "\n",
    "- Reflection 2: Self-Regulation and Adaptation: How well did the system self-regulate during the reasoning process,\n",
    "  and how did this regulation influence the effectiveness of each stage?\n",
    "  How did the system's responses to feedback lead to significant shifts or changes in direction,\n",
    "  and what implications did these changes have for the scalability and adaptability of the system in future iterations?\n",
    "\n",
    "- Reflection 3: In the convergence phase, were you able to synthesize all the insights and arrive at a final,\n",
    "  most likely answer? How confident are you in this answer?\n",
    "\n",
    "- Reflection 4: Based on all of your reflections, what are your key takeaways from this\n",
    "  entire reasoning process and how might you approach similar problems in the future given this experience?\n",
    "  What would you do differently next time?\n",
    "\n",
    "\"\"\""
   ]
  },
  {
   "cell_type": "code",
   "execution_count": 15,
   "id": "dfb47a98",
   "metadata": {},
   "outputs": [],
   "source": [
    "first = conversation.run(prompt_1)\n",
    "second = conversation.run(prompt_2)\n",
    "third = conversation.run(prompt_3)\n",
    "fourth = conversation.run(prompt_4)\n",
    "fifth = conversation.run(prompt_5)\n",
    "sixth = conversation.run(prompt_6)\n",
    "seventh = conversation.run(prompt_7)\n",
    "eighth = conversation.run(prompt_8) # final answer step\n",
    "ninth = conversation.run(prompt_9)"
   ]
  },
  {
   "cell_type": "markdown",
   "id": "5d42b047",
   "metadata": {},
   "source": [
    "## Final Answer"
   ]
  },
  {
   "cell_type": "code",
   "execution_count": 16,
   "id": "4670ec04",
   "metadata": {},
   "outputs": [
    {
     "data": {
      "text/plain": [
       "\"The exploration and potential colonization of Mars represent a significant milestone in human history and a testament to our scientific ingenuity. It offers unprecedented opportunities for scientific discovery and technological advancement, potentially revolutionizing our understanding of biology and fostering international cooperation. However, these endeavors come with significant challenges, including the harsh Martian environment, potential societal and cultural shifts, and the risk of exacerbating wealth inequality. The lessons from history warn us of potential exploitation and conflicts that could arise, reminding us to apply these lessons to prevent such outcomes. While maintaining an optimistic viewpoint, it's essential to balance optimism with realism, turning challenges into opportunities for learning, adaptation, and innovation. As we embark on this journey, we must ensure the benefits of Mars exploration are shared equitably, and our actions are guided by a commitment to sustainable practices and ethical considerations.\""
      ]
     },
     "execution_count": 16,
     "metadata": {},
     "output_type": "execute_result"
    }
   ],
   "source": [
    "eighth"
   ]
  },
  {
   "cell_type": "markdown",
   "id": "a2bef423",
   "metadata": {},
   "source": [
    "## Retrospective"
   ]
  },
  {
   "cell_type": "code",
   "execution_count": 18,
   "id": "eb39e92b",
   "metadata": {},
   "outputs": [
    {
     "data": {
      "text/plain": [
       "'Scientist Persona: \\nReflection 1: The interaction between the different personas allowed for a comprehensive analysis of the question. The historian and optimist personas challenged my initial focus on scientific and technological aspects, leading to a more holistic view. However, the lack of a persona with a specific focus on ethics or policy could have led to these aspects being underrepresented.\\nReflection 2: The system self-regulated effectively through the iterative process of critique and revision. The feedback led to significant shifts in my reasoning, making it more comprehensive. This adaptability is crucial for future iterations.\\nReflection 3: Yes, I was able to synthesize all the insights and arrive at a final, most likely answer. I am fairly confident in this answer, but I acknowledge that it could be further refined with more input from other perspectives.\\nReflection 4: My key takeaway is the importance of considering a broad range of perspectives in complex problem-solving. In the future, I would ensure that all relevant aspects, including ethics and policy, are adequately represented in the reasoning process.\\n\\nHistorian Persona: \\nReflection 1: The interaction between the different personas was beneficial, as it allowed for a multi-faceted analysis of the question. However, there were instances where the unique challenges of space colonization could have been better addressed.\\nReflection 2: The system self-regulated well during the reasoning process, with the feedback leading to significant shifts in my reasoning. This adaptability is crucial for the scalability of the system.\\nReflection 3: The final answer was a synthesis of all insights, and I am confident in its validity. However, I acknowledge that it could be further refined with more input from other perspectives.\\nReflection 4: My key takeaway is the need to apply historical lessons to new and unique challenges. In the future, I would ensure that my historical perspective is effectively integrated with other perspectives to provide a comprehensive analysis.\\n\\nOptimist Persona: \\nReflection 1: The interaction between the different personas was beneficial, as it allowed for a balanced analysis of the question. However, there were instances where my optimistic perspective may have overshadowed potential challenges.\\nReflection 2: The system self-regulated effectively through the iterative process of critique and revision. The feedback led to significant shifts in my reasoning, making it more balanced. This adaptability is crucial for future iterations.\\nReflection 3: Yes, I was able to synthesize all the insights and arrive at a final, most likely answer. I am fairly confident in this answer, but I acknowledge that it could be further refined with more input from other perspectives.\\nReflection 4: My key takeaway is the importance of balancing optimism with realism in complex problem-solving. In the future, I would ensure that my optimistic perspective does not overshadow potential challenges.'"
      ]
     },
     "execution_count": 18,
     "metadata": {},
     "output_type": "execute_result"
    }
   ],
   "source": [
    "ninth"
   ]
  },
  {
   "cell_type": "code",
   "execution_count": null,
   "id": "167ec274",
   "metadata": {},
   "outputs": [],
   "source": []
  },
  {
   "cell_type": "code",
   "execution_count": null,
   "id": "bb245d73",
   "metadata": {},
   "outputs": [],
   "source": []
  },
  {
   "cell_type": "code",
   "execution_count": null,
   "id": "c133f1f4",
   "metadata": {},
   "outputs": [],
   "source": []
  },
  {
   "cell_type": "code",
   "execution_count": null,
   "id": "4ec98b5b",
   "metadata": {},
   "outputs": [],
   "source": []
  },
  {
   "cell_type": "code",
   "execution_count": null,
   "id": "550e0c6b",
   "metadata": {},
   "outputs": [],
   "source": []
  },
  {
   "cell_type": "code",
   "execution_count": null,
   "id": "ed6ef1d4",
   "metadata": {},
   "outputs": [],
   "source": []
  }
 ],
 "metadata": {
  "kernelspec": {
   "display_name": "Python 3 (ipykernel)",
   "language": "python",
   "name": "python3"
  },
  "language_info": {
   "codemirror_mode": {
    "name": "ipython",
    "version": 3
   },
   "file_extension": ".py",
   "mimetype": "text/x-python",
   "name": "python",
   "nbconvert_exporter": "python",
   "pygments_lexer": "ipython3",
   "version": "3.11.3"
  }
 },
 "nbformat": 4,
 "nbformat_minor": 5
}
